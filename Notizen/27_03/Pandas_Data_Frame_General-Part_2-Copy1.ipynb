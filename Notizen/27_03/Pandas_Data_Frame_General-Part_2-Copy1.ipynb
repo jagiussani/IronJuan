{
 "cells": [
  {
   "cell_type": "markdown",
   "id": "370cb6bc",
   "metadata": {},
   "source": [
    "## Pandas Data Frames"
   ]
  },
  {
   "cell_type": "markdown",
   "id": "3bde899d",
   "metadata": {},
   "source": [
    "- Applying functions, working with Numpy functions\n",
    "- Concatinatng & Merging\n",
    "- Dealing with Missing values\n",
    "- Dummy Variables\n",
    "- I/O operations"
   ]
  },
  {
   "cell_type": "code",
   "execution_count": null,
   "id": "5a990cc2",
   "metadata": {
    "slideshow": {
     "slide_type": "slide"
    }
   },
   "outputs": [],
   "source": [
    "%matplotlib inline\n",
    "import numpy as np\n",
    "import pandas as pd\n",
    "from IPython.display import Image\n",
    "from IPython.display import HTML\n",
    "from IPython.display import Markdown, display\n",
    "def printmd(string):\n",
    "    display(Markdown(string))\n"
   ]
  },
  {
   "cell_type": "markdown",
   "id": "234e63a3",
   "metadata": {},
   "source": [
    "CSS = \"\"\"\n",
    ".output {\n",
    "    align-items: center;\n",
    "}\n",
    "\"\"\"\n",
    "HTML('''<script>\n",
    "code_show=true; \n",
    "function code_toggle() {\n",
    " if (code_show){\n",
    " $('div.input').hide();\n",
    " } else {\n",
    " $('div.input').show();\n",
    " }\n",
    " code_show = !code_show\n",
    "} \n",
    "$( document ).ready(code_toggle);\n",
    "</script>\n",
    "<form action=\"javascript:code_toggle()\"><input type=\"submit\" value=\"Code mode\"></form>''')"
   ]
  },
  {
   "cell_type": "code",
   "execution_count": null,
   "id": "13f53749",
   "metadata": {},
   "outputs": [],
   "source": [
    "from IPython.display import display, HTML\n",
    "\n",
    "CSS = \"\"\"\n",
    ".output {\n",
    "    align-items: center;\n",
    "}\n",
    "div.output_area {\n",
    "    width: 80%;\n",
    "}\n",
    "\"\"\"\n",
    "HTML('<style>{}</style>'.format(CSS))"
   ]
  },
  {
   "cell_type": "code",
   "execution_count": null,
   "id": "6259ce62",
   "metadata": {},
   "outputs": [],
   "source": [
    "data = {\n",
    "    'name': ['Xavier', 'Ann', 'Jana', 'Yi', 'Robin', 'Amal', 'Nori'],\n",
    "    'city': ['Mexico City', 'Toronto', 'Prague', 'Shanghai',\n",
    "             'Manchester', 'Cairo', 'Osaka'],\n",
    "    'age': [41, 28, 33, 34, 38, 31, 37],\n",
    "    'py-score': [88.0, 79.0, 81.0, 80.0, 68.0, 61.0, 84.0],\n",
    "    'js-score': [71.0, 95.0, 88.0, 79.0, 91.0, 91.0, 80.0]\n",
    "\n",
    "}\n",
    "\n",
    "students_df = pd.DataFrame(data=data)\n",
    "students_df"
   ]
  },
  {
   "cell_type": "markdown",
   "id": "a34f7251",
   "metadata": {},
   "source": [
    "### Applying functions"
   ]
  },
  {
   "cell_type": "markdown",
   "id": "619fe012",
   "metadata": {},
   "source": [
    "### Applying Arithmetic functions"
   ]
  },
  {
   "cell_type": "code",
   "execution_count": null,
   "id": "2befdd75",
   "metadata": {},
   "outputs": [],
   "source": [
    "students_df"
   ]
  },
  {
   "cell_type": "code",
   "execution_count": null,
   "id": "1e6581f2",
   "metadata": {},
   "outputs": [],
   "source": [
    "## adding computed column , feature engineering \n",
    "students_df['total'] =\\ # slash to breake it down into a couple lines\n",
    "(0.4 * students_df['py-score'] + 0.3 * students_df['js-score'])/0.7\n",
    "students_df\n"
   ]
  },
  {
   "cell_type": "code",
   "execution_count": null,
   "id": "1c9b41df",
   "metadata": {
    "scrolled": true
   },
   "outputs": [],
   "source": [
    "students_df.iloc[:, 3:5]"
   ]
  },
  {
   "cell_type": "markdown",
   "id": "8d0d60ec",
   "metadata": {},
   "source": [
    "### using existing NumPy function instead of writing your own function"
   ]
  },
  {
   "cell_type": "code",
   "execution_count": null,
   "id": "72b5cd1c",
   "metadata": {},
   "outputs": [],
   "source": [
    "np.average(students_df.iloc[:, 3:5], axis=1,\n",
    "                         weights=[0.4, 0.3])"
   ]
  },
  {
   "cell_type": "code",
   "execution_count": null,
   "id": "56424da1",
   "metadata": {},
   "outputs": [],
   "source": [
    "students_df['total']= np.average(students_df.iloc[:, 3:5], axis=1,\n",
    "                         weights=[0.4, 0.3])"
   ]
  },
  {
   "cell_type": "code",
   "execution_count": null,
   "id": "1f66e61e",
   "metadata": {},
   "outputs": [],
   "source": [
    "array = np.array(students_df.total)"
   ]
  },
  {
   "cell_type": "code",
   "execution_count": null,
   "id": "d1b4d139",
   "metadata": {},
   "outputs": [],
   "source": [
    "array"
   ]
  },
  {
   "cell_type": "markdown",
   "id": "11463779",
   "metadata": {},
   "source": [
    "### Apply function"
   ]
  },
  {
   "cell_type": "code",
   "execution_count": null,
   "id": "1d433735",
   "metadata": {},
   "outputs": [],
   "source": [
    "students_df[[\"py-score\",\"js-score\"]].apply(lambda x :  x* 10)"
   ]
  },
  {
   "cell_type": "code",
   "execution_count": null,
   "id": "e4e0729a",
   "metadata": {},
   "outputs": [],
   "source": [
    "students_df[[\"py-score\",\"js-score\"]].apply(np.sqrt)"
   ]
  },
  {
   "cell_type": "code",
   "execution_count": null,
   "id": "b0c12309",
   "metadata": {},
   "outputs": [],
   "source": [
    "students_df"
   ]
  },
  {
   "cell_type": "code",
   "execution_count": null,
   "id": "be3284a7",
   "metadata": {
    "scrolled": true
   },
   "outputs": [],
   "source": [
    "##del students_df['total']\n",
    "\n",
    "#print(\"students_df['total'] = np.average(students_df.iloc[:, 2:5], axis=1,weights=[0.4, 0.3, 0.3])\")\n",
    "students_df['total'] = 50\n",
    "students_df"
   ]
  },
  {
   "cell_type": "code",
   "execution_count": null,
   "id": "6672dfe9",
   "metadata": {},
   "outputs": [],
   "source": [
    "students_df['age'] # or .age would also be possible"
   ]
  },
  {
   "cell_type": "markdown",
   "id": "9ecdf6cb",
   "metadata": {},
   "source": [
    "## Map function with Lambda"
   ]
  },
  {
   "cell_type": "code",
   "execution_count": null,
   "id": "72e3763e",
   "metadata": {
    "scrolled": true
   },
   "outputs": [],
   "source": [
    "students_df[\"py-score\"]= list(map(lambda x:x+10,students_df[\"py-score\"]))\n",
    "students_df"
   ]
  },
  {
   "cell_type": "code",
   "execution_count": null,
   "id": "d54980b5",
   "metadata": {},
   "outputs": [],
   "source": [
    "students_df[\"py-score\"]= students_df[\"py-score\"].apply(lambda x: x+10)\n",
    "students_df"
   ]
  },
  {
   "cell_type": "markdown",
   "id": "db9f5faf",
   "metadata": {},
   "source": [
    "### Concatinating\n",
    "- concat mutilpe data frames on the same axis.\n",
    "- pd.concat()"
   ]
  },
  {
   "cell_type": "code",
   "execution_count": null,
   "id": "a9ff1b23",
   "metadata": {
    "scrolled": true
   },
   "outputs": [],
   "source": [
    "Image(\"res/merging_concat_dict_keys_copy.png\") ####### Photo on your folder #####"
   ]
  },
  {
   "cell_type": "markdown",
   "id": "803e1055",
   "metadata": {},
   "source": [
    "source:pandas.pydata.org"
   ]
  },
  {
   "cell_type": "code",
   "execution_count": null,
   "id": "b460c52e",
   "metadata": {
    "scrolled": true
   },
   "outputs": [],
   "source": [
    "print('df = pd.DataFrame(np.random.randn(10, 4))')\n",
    "df = pd.DataFrame(np.random.randn(7, 4))\n",
    "print(df)\n",
    "print(\"\\npieces = [df[:2], df[2:4], df[4:]]\")\n",
    "pieces = [df[:2], df[2:4], df[4:]]\n",
    "pieces"
   ]
  },
  {
   "cell_type": "code",
   "execution_count": null,
   "id": "0c4bdc8e",
   "metadata": {},
   "outputs": [],
   "source": [
    "help(pd.concat)"
   ]
  },
  {
   "cell_type": "code",
   "execution_count": null,
   "id": "460542f5",
   "metadata": {
    "scrolled": true
   },
   "outputs": [],
   "source": [
    "print(\"\\npd.concat(pieces)\")\n",
    "pd.concat(pieces)"
   ]
  },
  {
   "cell_type": "markdown",
   "id": "8e0ee04b",
   "metadata": {},
   "source": [
    "### Working with Missing Data"
   ]
  },
  {
   "cell_type": "markdown",
   "id": "239b4c30",
   "metadata": {},
   "source": [
    "### np.nan is used to represent missing values"
   ]
  },
  {
   "cell_type": "code",
   "execution_count": null,
   "id": "8a8f29d1",
   "metadata": {},
   "outputs": [],
   "source": [
    "print(\"df_ = pd.DataFrame({'x': [1, 2, np.nan, 4]})\")\n",
    "df_ = pd.DataFrame({'x': [1, 2, np.nan, 4]})\n",
    "df_"
   ]
  },
  {
   "cell_type": "code",
   "execution_count": null,
   "id": "f6630a9e",
   "metadata": {},
   "outputs": [],
   "source": [
    "df_[\"y\"]=[2,np.nan,4,5]\n",
    "df_['example']=[2,3,4,np.nan]\n",
    "df_"
   ]
  },
  {
   "cell_type": "markdown",
   "id": "39c7e434",
   "metadata": {},
   "source": [
    "### Dropping rows that contains missing values "
   ]
  },
  {
   "cell_type": "code",
   "execution_count": null,
   "id": "8fdc3f94",
   "metadata": {},
   "outputs": [],
   "source": [
    "df_.dropna(subset=['y'])  "
   ]
  },
  {
   "cell_type": "code",
   "execution_count": null,
   "id": "b2012401",
   "metadata": {},
   "outputs": [],
   "source": [
    "#print(\"df_.dropna()\")\n",
    "df_.dropna()             \n",
    "df_.dropna(how='all') ## this willl drop all the rows with no value(nan) "
   ]
  },
  {
   "cell_type": "code",
   "execution_count": null,
   "id": "636e2acb",
   "metadata": {},
   "outputs": [],
   "source": [
    "df_.dropna(how='any') ## this is the default version. "
   ]
  },
  {
   "cell_type": "markdown",
   "id": "08c2ae46",
   "metadata": {},
   "source": [
    "### and you can fill the missing values with fillna.."
   ]
  },
  {
   "cell_type": "markdown",
   "id": "81e8140f",
   "metadata": {},
   "source": [
    "<b>  filling nas with mean"
   ]
  },
  {
   "cell_type": "code",
   "execution_count": null,
   "id": "22dbc112",
   "metadata": {
    "scrolled": true
   },
   "outputs": [],
   "source": [
    "df_.mean()"
   ]
  },
  {
   "cell_type": "code",
   "execution_count": null,
   "id": "fd28ba25",
   "metadata": {},
   "outputs": [],
   "source": [
    "df_[[\"x\"]].fillna(value=df_.x.mean()) #imputation "
   ]
  },
  {
   "cell_type": "code",
   "execution_count": null,
   "id": "afec24f5",
   "metadata": {},
   "outputs": [],
   "source": [
    "df_"
   ]
  },
  {
   "cell_type": "code",
   "execution_count": null,
   "id": "56dd0c4f",
   "metadata": {
    "scrolled": true
   },
   "outputs": [],
   "source": [
    "df_ = pd.DataFrame({'x': [1, 2, np.nan, 4]})\n",
    "print('df_.fillna(value=0)\\n',df_.fillna(value=0))\n",
    "print(\"\\ndf_.fillna(method=ffill)\\n\",df_.fillna(method='ffill')) #forward fill\n",
    "print(\"\\ndf_.fillna(method=bfill)\\n\",df_.fillna(method='bfill')) #backward fill"
   ]
  },
  {
   "cell_type": "markdown",
   "id": "7198d670",
   "metadata": {},
   "source": [
    "## Dummy variables\n",
    "- dummy variables are binary variables that represents the values that categorical variables hold. \n",
    "- It is an efficient representation for programming, preprocessing, analysing and ML tasks purposes."
   ]
  },
  {
   "cell_type": "markdown",
   "id": "1b744ac3",
   "metadata": {},
   "source": [
    "#### Here is an example..."
   ]
  },
  {
   "cell_type": "code",
   "execution_count": null,
   "id": "846ed101",
   "metadata": {},
   "outputs": [],
   "source": [
    "df = pd.DataFrame({'A': ['a', 'b', 'a'], 'B': ['b', 'a', 'c'],\n",
    "                   'C': [1, 2, 3]})\n",
    "df"
   ]
  },
  {
   "cell_type": "code",
   "execution_count": null,
   "id": "e62dd569",
   "metadata": {},
   "outputs": [],
   "source": [
    "pd.get_dummies(df, prefix=['col1', 'col2'])"
   ]
  },
  {
   "cell_type": "code",
   "execution_count": null,
   "id": "329f10e6",
   "metadata": {},
   "outputs": [],
   "source": [
    "df.apply(np.unique)"
   ]
  },
  {
   "cell_type": "markdown",
   "id": "4b82d2b0",
   "metadata": {},
   "source": [
    "### I/O operations\n",
    "- reading data directly from csv, text, Excel files, DFS\n",
    "- Pandas Data Frames are not persistent storage!\n",
    "- writing data directly to file storage."
   ]
  },
  {
   "cell_type": "code",
   "execution_count": null,
   "id": "602685a6",
   "metadata": {},
   "outputs": [],
   "source": [
    "students_df.to_csv(\"students_df.csv\",index=False) # in order to save as csv "
   ]
  },
  {
   "cell_type": "code",
   "execution_count": null,
   "id": "fda86727",
   "metadata": {
    "scrolled": true
   },
   "outputs": [],
   "source": [
    "Image(\"res/Q&A.png\")"
   ]
  },
  {
   "cell_type": "code",
   "execution_count": null,
   "id": "94dfe52e",
   "metadata": {},
   "outputs": [],
   "source": []
  }
 ],
 "metadata": {
  "kernelspec": {
   "display_name": "Python 3 (ipykernel)",
   "language": "python",
   "name": "python3"
  },
  "language_info": {
   "codemirror_mode": {
    "name": "ipython",
    "version": 3
   },
   "file_extension": ".py",
   "mimetype": "text/x-python",
   "name": "python",
   "nbconvert_exporter": "python",
   "pygments_lexer": "ipython3",
   "version": "3.9.13"
  },
  "toc": {
   "base_numbering": 1,
   "nav_menu": {},
   "number_sections": false,
   "sideBar": true,
   "skip_h1_title": false,
   "title_cell": "Table of Contents",
   "title_sidebar": "Contents",
   "toc_cell": false,
   "toc_position": {},
   "toc_section_display": true,
   "toc_window_display": false
  }
 },
 "nbformat": 4,
 "nbformat_minor": 5
}
